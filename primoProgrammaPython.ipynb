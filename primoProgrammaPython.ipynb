{
 "cells": [
  {
   "cell_type": "code",
   "execution_count": 1,
   "id": "e79ef933",
   "metadata": {},
   "outputs": [
    {
     "name": "stdout",
     "output_type": "stream",
     "text": [
      "19\n"
     ]
    }
   ],
   "source": [
    "#Funzione per trovare la posizione di una lettera all'interno dell'alfabeto\n",
    "def posizioneLetteraAlfabeto(lettera):\n",
    "    i = 0\n",
    "    alfabeto_ita = \"ABCDEFGHILMNOPQRSTUVZ\"\n",
    "    while (i<len(alfabeto_ita)):\n",
    "        if(lettera==alfabeto_ita[i]):\n",
    "            return i\n",
    "        else:\n",
    "            i = i + 1\n",
    "            \n",
    "            \n",
    "posizione = posizioneLetteraAlfabeto(\"V\")\n",
    "print(posizione)"
   ]
  },
  {
   "cell_type": "code",
   "execution_count": 2,
   "id": "651a9fed",
   "metadata": {},
   "outputs": [
    {
     "name": "stdout",
     "output_type": "stream",
     "text": [
      "RAPE\n"
     ]
    }
   ],
   "source": [
    "#Funzione per CRIPTARE una parola con il metodo ROT-13\n",
    "def criptare(parola):\n",
    "    alfabeto_ita = \"ABCDEFGHILMNOPQRSTUVZ\"\n",
    "    iParola = 0\n",
    "    iAlfabeto = 0\n",
    "    parolaCriptata = \"\"\n",
    "    while(iParola < len(parola)):\n",
    "        letteraCorrente = parola[iParola]\n",
    "        pos = posizioneLetteraAlfabeto(letteraCorrente)\n",
    "        if(pos > 7):\n",
    "            indiceNuovo = (pos + 13) - len(alfabeto_ita)\n",
    "        else:\n",
    "            indiceNuovo = (pos + 13)\n",
    "            \n",
    "        parolaCriptata = parolaCriptata + alfabeto_ita[indiceNuovo]\n",
    "        iParola = iParola + 1\n",
    "        \n",
    "    return parolaCriptata\n",
    "\n",
    "\n",
    "parolaC = criptare(\"CIAO\")\n",
    "print(parolaC)\n",
    "    \n",
    "        \n",
    "    \n",
    "    "
   ]
  },
  {
   "cell_type": "code",
   "execution_count": 3,
   "id": "0cfd4019",
   "metadata": {},
   "outputs": [
    {
     "name": "stdout",
     "output_type": "stream",
     "text": [
      "CIAO\n"
     ]
    }
   ],
   "source": [
    "#Funzione per DECRIPTARE una parola con il metodo ROT-13def decriptare(parola):\n",
    "def decriptare(parola):\n",
    "    alfabeto_ita = \"ABCDEFGHILMNOPQRSTUVZ\"\n",
    "    iParola = 0\n",
    "    iAlfabeto = 0\n",
    "    parolaDecriptata = \"\"\n",
    "    while(iParola < len(parola)):\n",
    "        letteraCorrente = parola[iParola]\n",
    "        pos = posizioneLetteraAlfabeto(letteraCorrente)\n",
    "        if(pos < 13):\n",
    "            indiceNuovo = (pos - 13) + len(alfabeto_ita)\n",
    "        else:\n",
    "            indiceNuovo = (pos - 13)\n",
    "            \n",
    "        parolaDecriptata = parolaDecriptata + alfabeto_ita[indiceNuovo]\n",
    "        iParola = iParola + 1\n",
    "        \n",
    "    return parolaDecriptata\n",
    "\n",
    "\n",
    "parolaD = decriptare(\"RAPE\")\n",
    "print(parolaD)"
   ]
  },
  {
   "cell_type": "code",
   "execution_count": null,
   "id": "b92bec43",
   "metadata": {},
   "outputs": [],
   "source": []
  }
 ],
 "metadata": {
  "kernelspec": {
   "display_name": "Python 3 (ipykernel)",
   "language": "python",
   "name": "python3"
  },
  "language_info": {
   "codemirror_mode": {
    "name": "ipython",
    "version": 3
   },
   "file_extension": ".py",
   "mimetype": "text/x-python",
   "name": "python",
   "nbconvert_exporter": "python",
   "pygments_lexer": "ipython3",
   "version": "3.9.7"
  }
 },
 "nbformat": 4,
 "nbformat_minor": 5
}
